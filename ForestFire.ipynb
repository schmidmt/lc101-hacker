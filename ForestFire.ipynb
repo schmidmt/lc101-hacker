{
 "cells": [
  {
   "cell_type": "code",
   "execution_count": 118,
   "metadata": {},
   "outputs": [],
   "source": [
    "%matplotlib inline\n",
    "import numpy as np\n",
    "import scipy as sp\n",
    "import matplotlib.pylab as plt\n",
    "from collections import namedtuple\n",
    "import random\n",
    "import seaborn as sns\n",
    "import itertools"
   ]
  },
  {
   "cell_type": "code",
   "execution_count": 16,
   "metadata": {},
   "outputs": [],
   "source": [
    "def generate_forest(n, p):\n",
    "    \"\"\"Make forest of size nxn with probability p\"\"\"\n",
    "    return (np.random.rand(n, n) < p).astype(int)"
   ]
  },
  {
   "cell_type": "code",
   "execution_count": 29,
   "metadata": {},
   "outputs": [
    {
     "data": {
      "text/plain": [
       "<matplotlib.image.AxesImage at 0x10e45b0f0>"
      ]
     },
     "execution_count": 29,
     "metadata": {},
     "output_type": "execute_result"
    },
    {
     "data": {
      "image/png": "[encoded data removed]",
      "text/plain": [
       "<matplotlib.figure.Figure at 0x10e37da58>"
      ]
     },
     "metadata": {},
     "output_type": "display_data"
    }
   ],
   "source": [
    "example_forest = generate_forest(30, 0.3)\n",
    "plt.matshow(example_forest)"
   ]
  },
  {
   "cell_type": "code",
   "execution_count": 22,
   "metadata": {},
   "outputs": [],
   "source": [
    "Point = namedtuple('Point', ('x', 'y'))"
   ]
  },
  {
   "cell_type": "code",
   "execution_count": 139,
   "metadata": {},
   "outputs": [],
   "source": [
    "def neighbors(xy: Point, forest):\n",
    "    w, h = forest.shape\n",
    "    neighs =[\n",
    "        Point((xy.x + 1) % w, xy.y),\n",
    "        Point((xy.x - 1) % w, xy.y),\n",
    "        Point(xy.x, (xy.y + 1) % h),\n",
    "        Point(xy.x, (xy.y - 1) % h),\n",
    "    ]\n",
    "    \n",
    "    return [n for n in neighs if forest[n.x, n.y]]"
   ]
  },
  {
   "cell_type": "code",
   "execution_count": 141,
   "metadata": {},
   "outputs": [],
   "source": [
    "def calc_eccentricity(xy: Point, forest):\n",
    "    \"\"\"Return the eccentricity of point xy\"\"\"\n",
    "    seen = set()\n",
    "    boundary = []\n",
    "    next_boundary = [xy]\n",
    "    iters = 0\n",
    "    while next_boundary:\n",
    "        boundary = next_boundary\n",
    "        next_boundary = []\n",
    "        \n",
    "        for cur in boundary:\n",
    "            seen.add(cur)\n",
    "            for neigh in (n for n in neighbors(cur, forest) if n not in seen):\n",
    "                next_boundary.append(neigh)\n",
    "        iters += 1\n",
    "    return iters - 1"
   ]
  },
  {
   "cell_type": "code",
   "execution_count": 142,
   "metadata": {},
   "outputs": [
    {
     "data": {
      "text/plain": [
       "array([[1, 1],\n",
       "       [1, 1]])"
      ]
     },
     "execution_count": 142,
     "metadata": {},
     "output_type": "execute_result"
    }
   ],
   "source": [
    "np.array([[1, 1], [1, 1]])"
   ]
  },
  {
   "cell_type": "code",
   "execution_count": 143,
   "metadata": {},
   "outputs": [
    {
     "data": {
      "text/plain": [
       "2"
      ]
     },
     "execution_count": 143,
     "metadata": {},
     "output_type": "execute_result"
    }
   ],
   "source": [
    "calc_eccentricity(Point(0, 0), np.array([[1, 1], [1, 1]]))"
   ]
  },
  {
   "cell_type": "code",
   "execution_count": 144,
   "metadata": {},
   "outputs": [],
   "source": [
    "def burn_forest(n, p):\n",
    "    \"\"\"Returns eccenctricity for a random point in an nxn forest with tree probability p\"\"\"\n",
    "    forest = generate_forest(n, p)\n",
    "    trees = list(zip(*np.where(forest == 1)))\n",
    "    if not trees:\n",
    "        return 0\n",
    "    xy = Point(*random.choice(trees))\n",
    "    return calc_eccentricity(xy, forest)"
   ]
  },
  {
   "cell_type": "code",
   "execution_count": 152,
   "metadata": {},
   "outputs": [],
   "source": [
    "M = 100\n",
    "ps = np.arange(0, 1, 1.0 / M)\n",
    "results_mean = np.zeros(M)\n",
    "results_std = np.zeros(M)"
   ]
  },
  {
   "cell_type": "code",
   "execution_count": 153,
   "metadata": {
    "scrolled": true
   },
   "outputs": [
    {
     "name": "stdout",
     "output_type": "stream",
     "text": [
      "0 0.0\n",
      "1 0.01\n",
      "2 0.02\n",
      "3 0.03\n",
      "4 0.04\n",
      "5 0.05\n",
      "6 0.06\n",
      "7 0.07\n",
      "8 0.08\n",
      "9 0.09\n",
      "10 0.1\n",
      "11 0.11\n",
      "12 0.12\n",
      "13 0.13\n",
      "14 0.14\n",
      "15 0.15\n",
      "16 0.16\n",
      "17 0.17\n",
      "18 0.18\n",
      "19 0.19\n",
      "20 0.2\n",
      "21 0.21\n",
      "22 0.22\n",
      "23 0.23\n",
      "24 0.24\n",
      "25 0.25\n",
      "26 0.26\n",
      "27 0.27\n",
      "28 0.28\n",
      "29 0.29\n",
      "30 0.3\n",
      "31 0.31\n",
      "32 0.32\n",
      "33 0.33\n",
      "34 0.34\n",
      "35 0.35\n",
      "36 0.36\n",
      "37 0.37\n",
      "38 0.38\n",
      "39 0.39\n",
      "40 0.4\n",
      "41 0.41\n",
      "42 0.42\n",
      "43 0.43\n",
      "44 0.44\n",
      "45 0.45\n",
      "46 0.46\n",
      "47 0.47\n",
      "48 0.48\n",
      "49 0.49\n",
      "50 0.5\n",
      "51 0.51\n",
      "52 0.52\n",
      "53 0.53\n",
      "54 0.54\n",
      "55 0.55\n",
      "56 0.56\n",
      "57 0.57\n",
      "58 0.58\n",
      "59 0.59\n",
      "60 0.6\n",
      "61 0.61\n",
      "62 0.62\n",
      "63 0.63\n",
      "64 0.64\n",
      "65 0.65\n",
      "66 0.66\n",
      "67 0.67\n",
      "68 0.68\n",
      "69 0.69\n",
      "70 0.7\n",
      "71 0.71\n",
      "72 0.72\n",
      "73 0.73\n",
      "74 0.74\n",
      "75 0.75\n",
      "76 0.76\n",
      "77 0.77\n",
      "78 0.78\n",
      "79 0.79\n",
      "80 0.8\n",
      "81 0.81\n",
      "82 0.82\n",
      "83 0.83\n",
      "84 0.84\n",
      "85 0.85\n",
      "86 0.86\n",
      "87 0.87\n",
      "88 0.88\n",
      "89 0.89\n",
      "90 0.9\n",
      "91 0.91\n",
      "92 0.92\n",
      "93 0.93\n",
      "94 0.94\n",
      "95 0.95\n",
      "96 0.96\n",
      "97 0.97\n",
      "98 0.98\n",
      "99 0.99\n"
     ]
    }
   ],
   "source": [
    "nIters = 200\n",
    "for i, p in enumerate(ps):\n",
    "    print(i, p)\n",
    "    iter_results = [burn_forest(10, p) for _ in range(nIters)]\n",
    "    results_mean[i] = np.mean(iter_results)\n",
    "    results_std[i] = np.std(iter_results)"
   ]
  },
  {
   "cell_type": "code",
   "execution_count": 151,
   "metadata": {},
   "outputs": [
    {
     "data": {
      "text/plain": [
       "[<matplotlib.lines.Line2D at 0x17a21c940>]"
      ]
     },
     "execution_count": 151,
     "metadata": {},
     "output_type": "execute_result"
    },
    {
     "data": {
      "image/png": "[encoded data removed]",
      "text/plain": [
       "<matplotlib.figure.Figure at 0x17a21ce48>"
      ]
     },
     "metadata": {},
     "output_type": "display_data"
    }
   ],
   "source": [
    "plt.fill_between(ps, results_mean + results_std, results_mean - results_std, alpha=0.3)\n",
    "plt.plot(ps, results_mean)"
   ]
  },
  {
   "cell_type": "code",
   "execution_count": 149,
   "metadata": {},
   "outputs": [
    {
     "data": {
      "text/plain": [
       "<matplotlib.axes._subplots.AxesSubplot at 0x17a2044e0>"
      ]
     },
     "execution_count": 149,
     "metadata": {},
     "output_type": "execute_result"
    },
    {
     "data": {
      "image/png": "[encoded data removed]",
      "text/plain": [
       "<matplotlib.figure.Figure at 0x17a1dc160>"
      ]
     },
     "metadata": {},
     "output_type": "display_data"
    }
   ],
   "source": [
    "example_forest = generate_forest(30, 0.5)\n",
    "eccs = []\n",
    "for x, y in itertools.product(range(0, 30), range(0, 30)):\n",
    "    eccs.append(calc_eccentricity(Point(x, y), example_forest))\n",
    "sns.distplot(eccs)"
   ]
  },
  {
   "cell_type": "code",
   "execution_count": null,
   "metadata": {},
   "outputs": [],
   "source": []
  }
 ],
 "metadata": {
  "kernelspec": {
   "display_name": "Python 3",
   "language": "python",
   "name": "python3"
  },
  "language_info": {
   "codemirror_mode": {
    "name": "ipython",
    "version": 3
   },
   "file_extension": ".py",
   "mimetype": "text/x-python",
   "name": "python",
   "nbconvert_exporter": "python",
   "pygments_lexer": "ipython3",
   "version": "3.6.3"
  }
 },
 "nbformat": 4,
 "nbformat_minor": 2
}
